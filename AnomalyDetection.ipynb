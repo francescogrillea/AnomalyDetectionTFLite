{
  "nbformat": 4,
  "nbformat_minor": 0,
  "metadata": {
    "colab": {
      "name": "AnomalyDetection.ipynb",
      "provenance": [],
      "collapsed_sections": [],
      "mount_file_id": "1WkX3st5hXZbhA2FMrflI8p-dRwdEi3_e",
      "authorship_tag": "ABX9TyMb95G/UViM6iceN1TZQDjp",
      "include_colab_link": true
    },
    "kernelspec": {
      "name": "python3",
      "display_name": "Python 3"
    },
    "language_info": {
      "name": "python"
    }
  },
  "cells": [
    {
      "cell_type": "markdown",
      "metadata": {
        "id": "view-in-github",
        "colab_type": "text"
      },
      "source": [
        "<a href=\"https://colab.research.google.com/github/francescogrillea/AnomalyDetectionTFLite/blob/main/AnomalyDetection.ipynb\" target=\"_parent\"><img src=\"https://colab.research.google.com/assets/colab-badge.svg\" alt=\"Open In Colab\"/></a>"
      ]
    },
    {
      "cell_type": "markdown",
      "metadata": {
        "id": "vtqGVY5Gg_Xo"
      },
      "source": [
        "# Import e Costanti"
      ]
    },
    {
      "cell_type": "code",
      "metadata": {
        "id": "6_jPsPao2miK",
        "colab": {
          "base_uri": "https://localhost:8080/"
        },
        "outputId": "d53f85ee-14c1-467a-feb4-da0d336b395d"
      },
      "source": [
        "!cat ./drive/MyDrive/Colab*/anomaly_detection_data/res*"
      ],
      "execution_count": 13,
      "outputs": [
        {
          "output_type": "stream",
          "name": "stdout",
          "text": [
            "Tue Nov 23 15:12:43 2021\n",
            "Architecture: LSTM_1L\n",
            "Channel: A-1\n",
            "TensorFlow execution time: 0.6743566989898682s\n",
            "TensorFlowLite execution time: 0.0004329681396484375s\n",
            "TensorFlow predictions\tTFLite predictions\tDistance\n",
            "0.9981911182403564\t0.9926959276199341\t0.005495190620422363\n",
            "0.9989597797393799\t0.9959942698478699\t0.0029655098915100098\n",
            "0.9989480376243591\t0.9968134760856628\t0.002134561538696289\n",
            "0.9989720582962036\t0.9970735907554626\t0.0018984675407409668\n",
            "0.9992333054542542\t0.9978994131088257\t0.0013338923454284668\n",
            "0.9990507364273071\t0.9971656203269958\t0.0018851161003112793\n",
            "0.9991313219070435\t0.9977410435676575\t0.0013902783393859863\n",
            "0.9983036518096924\t0.9939520359039307\t0.004351615905761719\n",
            "0.9991016983985901\t0.9988558292388916\t0.00024586915969848633\n",
            "0.9989663362503052\t0.996996283531189\t0.001970052719116211\n",
            "Tue Nov 23 15:13:41 2021\n",
            "Architecture: LSTM_2L\n",
            "Channel: A-1\n",
            "TensorFlow execution time: 1.1536469459533691s\n",
            "TensorFlowLite execution time: 0.000396728515625s\n",
            "TensorFlow predictions\tTFLite predictions\tDistance\n",
            "0.9762475490570068\t0.5993139743804932\t0.37693357467651367\n",
            "0.9746178388595581\t0.6120284199714661\t0.36258941888809204\n",
            "0.9750677347183228\t0.6462372541427612\t0.3288304805755615\n",
            "0.9697092175483704\t0.5865984559059143\t0.38311076164245605\n",
            "0.9722527265548706\t0.624273955821991\t0.34797877073287964\n",
            "0.9748879075050354\t0.627856969833374\t0.3470309376716614\n",
            "0.9725824594497681\t0.6239501237869263\t0.3486323356628418\n",
            "0.9756133556365967\t0.5906468033790588\t0.38496655225753784\n",
            "0.9681681394577026\t0.6145090460777283\t0.35365909337997437\n",
            "0.9687648415565491\t0.5766397714614868\t0.39212507009506226\n"
          ]
        }
      ]
    },
    {
      "cell_type": "code",
      "metadata": {
        "colab": {
          "base_uri": "https://localhost:8080/"
        },
        "id": "i1mYVFxYSj7z",
        "outputId": "4fd71455-177c-4f92-ff8d-59df856d99e0"
      },
      "source": [
        "!rm ./drive/MyDrive/Colab*/anomaly_detection_data/res*"
      ],
      "execution_count": 10,
      "outputs": [
        {
          "output_type": "stream",
          "name": "stdout",
          "text": [
            "rm: cannot remove './drive/MyDrive/Colab*/anomaly_detection_data/res*': No such file or directory\n"
          ]
        }
      ]
    },
    {
      "cell_type": "code",
      "metadata": {
        "id": "dRlm5Hkkf7QN"
      },
      "source": [
        "import os\n",
        "import tensorflow as tf\n",
        "import numpy as np\n",
        "from tensorflow import keras\n",
        "import time\n",
        "import logging\n",
        "\n",
        "PROJECT_NAME = 'anomaly_detection'\n",
        "PROJECT_PATH = './drive/MyDrive/Colab Notebooks/anomaly_detection_data/'\n",
        "DATASET_PATH = PROJECT_PATH+'Dataset/'\n",
        "ARCHITECTURE_TYPE = 'LSTM_2L/'\n",
        "TF_MODELS_PATH = PROJECT_PATH+'TF_Models/'+ARCHITECTURE_TYPE\n",
        "TFLite_MODELS_PATH = PROJECT_PATH+'TFLite_Models/'+ARCHITECTURE_TYPE\n",
        "CHANNEL_NAME = 'A-1'\n",
        "\n",
        "logging.basicConfig(filename=\"./drive/MyDrive/Colab Notebooks/anomaly_detection_data/results.log\", level=logging.INFO, format='%(message)s')\n",
        "logging.info('{}\\nArchitecture: {}\\nChannel: {}'.format(time.ctime(), ARCHITECTURE_TYPE[:-1], CHANNEL_NAME))"
      ],
      "execution_count": 8,
      "outputs": []
    },
    {
      "cell_type": "markdown",
      "metadata": {
        "id": "Dt1rIwqnrcZ6"
      },
      "source": [
        "# Load Model and Dataset"
      ]
    },
    {
      "cell_type": "code",
      "metadata": {
        "id": "kt_EyQhLrcMr"
      },
      "source": [
        "def load_tf_model(channel_name):\n",
        "  if not channel_name.endswith('.h5'):\n",
        "    channel_name = channel_name+'.h5'\n",
        "  tf_model = keras.models.load_model(TF_MODELS_PATH+channel_name)\n",
        "  return tf_model\n",
        "\n",
        "\n",
        "def load_dataset(channel_name):\n",
        "  if not channel_name.endswith('.npy'):\n",
        "    channel_name = channel_name+'.npy'\n",
        "  x = np.array([np.load(DATASET_PATH+'test/'+channel_name)])\n",
        "  y = np.array([])\n",
        "  return x,y"
      ],
      "execution_count": 9,
      "outputs": []
    },
    {
      "cell_type": "markdown",
      "metadata": {
        "id": "oe36JAHxpa5E"
      },
      "source": [
        "# Prediction su TF Model"
      ]
    },
    {
      "cell_type": "code",
      "metadata": {
        "colab": {
          "base_uri": "https://localhost:8080/"
        },
        "id": "KBE3XAsUpZr5",
        "outputId": "43759f8d-6e49-4686-b439-951001d2b0d9"
      },
      "source": [
        "#load dataset\n",
        "tf_input_data, tf_output_data = load_dataset(CHANNEL_NAME)\n",
        "\n",
        "model = load_tf_model(CHANNEL_NAME)\n",
        "start_time = time.time()\n",
        "tf_output_data = model.predict(tf_input_data)\n",
        "delta_time = time.time()-start_time\n",
        "logging.info('TensorFlow execution time: {}s'.format(delta_time))\n",
        "print('Library: {}\\nChannel: {}\\nPredictions: {}\\nTime elapsed: {}s'.format('TensorFlow', CHANNEL_NAME, tf_output_data, delta_time))"
      ],
      "execution_count": 10,
      "outputs": [
        {
          "output_type": "stream",
          "name": "stdout",
          "text": [
            "Library: TensorFlow\n",
            "Channel: A-1\n",
            "Predictions: [[0.97624755 0.97461784 0.97506773 0.9697092  0.9722527  0.9748879\n",
            "  0.97258246 0.97561336 0.96816814 0.96876484]]\n",
            "Time elapsed: 1.1536469459533691s\n"
          ]
        }
      ]
    },
    {
      "cell_type": "markdown",
      "metadata": {
        "id": "RpKpQ1nhioY6"
      },
      "source": [
        "# Conversione dei modelli da .h5 a .tflite"
      ]
    },
    {
      "cell_type": "code",
      "metadata": {
        "id": "QRfM_NG7imEd",
        "colab": {
          "base_uri": "https://localhost:8080/"
        },
        "outputId": "415154d5-97ea-4a8a-b60a-68881cc8c9dc"
      },
      "source": [
        "channels = [f for f in os.listdir(TF_MODELS_PATH)]\n",
        "\n",
        "for model_filename in channels:\n",
        "  if not model_filename.startswith(CHANNEL_NAME):\n",
        "    continue\n",
        "\n",
        "  tf_model = load_tf_model(model_filename)\n",
        "  converter = tf.lite.TFLiteConverter.from_keras_model(tf_model)\n",
        "  converter.target_spec.supported_ops = [\n",
        "  tf.lite.OpsSet.TFLITE_BUILTINS, # enable TensorFlow Lite ops.\n",
        "  tf.lite.OpsSet.SELECT_TF_OPS # enable TensorFlow ops.\n",
        "]\n",
        "  optimizations = [tf.lite.Optimize.DEFAULT]\n",
        "  #WARNING:absl:Found untraced functions such as lstm_cell -> e' un warning che dipende da come è stato salvato il modello, tuttavia non sembra esserci una precisa soluzione\n",
        "  tflite_model = converter.convert()\n",
        "\n",
        "  #generate TFLite model name\n",
        "  channel_name = model_filename[:-3]\n",
        "  tflite_model_filename = channel_name+'.tflite'\n",
        "  \n",
        "  TFLite_MODEL_FILE = TFLite_MODELS_PATH+tflite_model_filename\n",
        "  with open(TFLite_MODEL_FILE, 'wb') as f:\n",
        "    f.write(tflite_model)\n",
        "    print('Model for channel '+channel_name+' converted')\n",
        "    #break"
      ],
      "execution_count": 17,
      "outputs": [
        {
          "output_type": "stream",
          "name": "stderr",
          "text": [
            "WARNING:absl:Found untraced functions such as lstm_cell_11_layer_call_fn, lstm_cell_11_layer_call_and_return_conditional_losses, lstm_cell_12_layer_call_fn, lstm_cell_12_layer_call_and_return_conditional_losses, lstm_cell_11_layer_call_fn while saving (showing 5 of 10). These functions will not be directly callable after loading.\n"
          ]
        },
        {
          "output_type": "stream",
          "name": "stdout",
          "text": [
            "INFO:tensorflow:Assets written to: /tmp/tmpwxh3d1f8/assets\n"
          ]
        },
        {
          "output_type": "stream",
          "name": "stderr",
          "text": [
            "INFO:tensorflow:Assets written to: /tmp/tmpwxh3d1f8/assets\n",
            "WARNING:absl:Buffer deduplication procedure will be skipped when flatbuffer library is not properly loaded\n"
          ]
        },
        {
          "output_type": "stream",
          "name": "stdout",
          "text": [
            "Model for channel A-1 converted\n"
          ]
        }
      ]
    },
    {
      "cell_type": "markdown",
      "metadata": {
        "id": "tEmmBFX12ECT"
      },
      "source": [
        "# Inferenza su TFLite"
      ]
    },
    {
      "cell_type": "code",
      "metadata": {
        "id": "vNp9oM_B2G1z",
        "colab": {
          "base_uri": "https://localhost:8080/"
        },
        "outputId": "4a2b6158-b524-4e68-9a73-a808a3e264f7"
      },
      "source": [
        "#load dataset\n",
        "x_data, tflite_output_data = load_dataset(CHANNEL_NAME)\n",
        "\n",
        "interpreter = tf.lite.Interpreter(model_path=TFLite_MODELS_PATH+CHANNEL_NAME+'.tflite')\n",
        "interpreter.allocate_tensors()\n",
        "\n",
        "input_details = interpreter.get_input_details()\n",
        "output_details = interpreter.get_output_details()\n",
        "\n",
        "#preprocessing input data\n",
        "input_shape = input_details[0]['shape']\n",
        "\n",
        "start_time = time.time()\n",
        "#per ogni riga del dataset, creo un tensore e invoco il modello\n",
        "for data in x_data[0]:\n",
        "  input_data = np.array([[data]], dtype=np.float32)\n",
        "  interpreter.set_tensor(input_details[0]['index'], input_data)\n",
        "    \n",
        "  #run inference\n",
        "  start_time = time.time()\n",
        "  interpreter.invoke()\n",
        "  stop_time = time.time()\n",
        "  \n",
        "  #recupero l'output prodotto dal modello\n",
        "  output_data = interpreter.get_tensor(output_details[0]['index'])\n",
        "  tflite_output_data = np.append(tflite_output_data, output_data)\n",
        "\n",
        "delta_time = time.time() - start_time\n",
        "logging.info('TensorFlowLite execution time: {}s'.format(delta_time))\n",
        "print('Library: {}\\nChannel: {}\\nPredictions: {}\\nTime elapsed: {}s'.format('TensorFlow Lite', CHANNEL_NAME, tflite_output_data, delta_time))"
      ],
      "execution_count": 11,
      "outputs": [
        {
          "output_type": "stream",
          "name": "stdout",
          "text": [
            "Library: TensorFlow Lite\n",
            "Channel: A-1\n",
            "Predictions: [0.59931397 0.61202842 0.64623725 ... 0.5906468  0.61450905 0.57663977]\n",
            "Time elapsed: 0.000396728515625s\n"
          ]
        }
      ]
    },
    {
      "cell_type": "code",
      "metadata": {
        "colab": {
          "base_uri": "https://localhost:8080/"
        },
        "id": "o7HpvBocwlMl",
        "outputId": "91e82022-e79a-46c8-cd41-b5f39f3d6b04"
      },
      "source": [
        "#confronto tra i risultati prodotti dal modello TF (sinistra) rispetto al modello TFLite (destra)\n",
        "logging.info('TensorFlow predictions\\tTFLite predictions\\tDistance')\n",
        "for y_tf, y_tflite in zip(tf_output_data[0], tflite_output_data):\n",
        "  logging.info('{}\\t{}\\t{}'.format(y_tf, y_tflite, y_tf-y_tflite))\n",
        "  print('{} {} {}'.format(y_tf, y_tflite, y_tf-y_tflite))"
      ],
      "execution_count": 12,
      "outputs": [
        {
          "output_type": "stream",
          "name": "stdout",
          "text": [
            "0.9762475490570068 0.5993139743804932 0.37693357467651367\n",
            "0.9746178388595581 0.6120284199714661 0.36258941888809204\n",
            "0.9750677347183228 0.6462372541427612 0.3288304805755615\n",
            "0.9697092175483704 0.5865984559059143 0.38311076164245605\n",
            "0.9722527265548706 0.624273955821991 0.34797877073287964\n",
            "0.9748879075050354 0.627856969833374 0.3470309376716614\n",
            "0.9725824594497681 0.6239501237869263 0.3486323356628418\n",
            "0.9756133556365967 0.5906468033790588 0.38496655225753784\n",
            "0.9681681394577026 0.6145090460777283 0.35365909337997437\n",
            "0.9687648415565491 0.5766397714614868 0.39212507009506226\n"
          ]
        }
      ]
    }
  ]
}