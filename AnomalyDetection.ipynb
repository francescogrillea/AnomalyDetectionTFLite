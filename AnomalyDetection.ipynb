{
  "nbformat": 4,
  "nbformat_minor": 0,
  "metadata": {
    "colab": {
      "name": "AnomalyDetection.ipynb",
      "provenance": [],
      "collapsed_sections": [
        "oe36JAHxpa5E",
        "RpKpQ1nhioY6"
      ],
      "mount_file_id": "1WkX3st5hXZbhA2FMrflI8p-dRwdEi3_e",
      "authorship_tag": "ABX9TyPCLeiHXO4HxpzU8z7kTp4y",
      "include_colab_link": true
    },
    "kernelspec": {
      "name": "python3",
      "display_name": "Python 3"
    },
    "language_info": {
      "name": "python"
    }
  },
  "cells": [
    {
      "cell_type": "markdown",
      "metadata": {
        "id": "view-in-github",
        "colab_type": "text"
      },
      "source": [
        "<a href=\"https://colab.research.google.com/github/francescogrillea/AnomalyDetectionTFLite/blob/main/AnomalyDetection.ipynb\" target=\"_parent\"><img src=\"https://colab.research.google.com/assets/colab-badge.svg\" alt=\"Open In Colab\"/></a>"
      ]
    },
    {
      "cell_type": "markdown",
      "metadata": {
        "id": "vtqGVY5Gg_Xo"
      },
      "source": [
        "# Import e Costanti"
      ]
    },
    {
      "cell_type": "code",
      "metadata": {
        "id": "6_jPsPao2miK",
        "colab": {
          "base_uri": "https://localhost:8080/"
        },
        "outputId": "1b3a7654-7330-4db2-a1c4-9c5ea3111353"
      },
      "source": [
        "!cat ./drive/MyDrive/Colab*/anomaly_detection_data/res*"
      ],
      "execution_count": 4,
      "outputs": [
        {
          "output_type": "stream",
          "name": "stdout",
          "text": [
            "CPU\n",
            "\tModel name:          Intel(R) Xeon(R) CPU @ 2.20GHz\n",
            "\n",
            "RAM\n",
            "\t10G / 13G free\n",
            "Thu Dec  2 18:46:11 2021\n",
            "Architecture: LSTM_1L\n",
            "Channel: A-1\n",
            "Found untraced functions such as lstm_cell_layer_call_fn, lstm_cell_layer_call_and_return_conditional_losses, lstm_cell_layer_call_fn, lstm_cell_layer_call_and_return_conditional_losses, lstm_cell_layer_call_and_return_conditional_losses while saving (showing 5 of 5). These functions will not be directly callable after loading.\n",
            "Assets written to: /tmp/tmpx6xzzm9q/assets\n",
            "Buffer deduplication procedure will be skipped when flatbuffer library is not properly loaded\n",
            "Model A-1.h5 converted (from 47Kb to 15Kb)\n",
            "TensorFlow prediction time: 0.7093887329101562s\n",
            "TensorFlowLite prediction time: 0.0002696514129638672s\n",
            "TensorFlow predictions\tTFLite predictions\tDistance\n",
            "0.9981911182403564\t0.9926959276199341\t0.005495190620422363\n",
            "0.9989597797393799\t0.9959942698478699\t0.0029655098915100098\n",
            "0.9989480376243591\t0.9968134760856628\t0.002134561538696289\n",
            "0.9989720582962036\t0.9970735907554626\t0.0018984675407409668\n",
            "0.9992333054542542\t0.9978994131088257\t0.0013338923454284668\n",
            "0.9990507364273071\t0.9971656203269958\t0.0018851161003112793\n",
            "0.9991313219070435\t0.9977410435676575\t0.0013902783393859863\n",
            "0.9983036518096924\t0.9939520359039307\t0.004351615905761719\n",
            "0.9991016983985901\t0.9988558292388916\t0.00024586915969848633\n",
            "0.9989663362503052\t0.996996283531189\t0.001970052719116211\n",
            "Thu Dec  2 18:46:23 2021\n",
            "Architecture: LSTM_1L\n",
            "Channel: A-2\n",
            "Found untraced functions such as lstm_cell_2_layer_call_fn, lstm_cell_2_layer_call_and_return_conditional_losses, lstm_cell_2_layer_call_fn, lstm_cell_2_layer_call_and_return_conditional_losses, lstm_cell_2_layer_call_and_return_conditional_losses while saving (showing 5 of 5). These functions will not be directly callable after loading.\n",
            "Assets written to: /tmp/tmp5s2o6qjm/assets\n",
            "Buffer deduplication procedure will be skipped when flatbuffer library is not properly loaded\n",
            "Model A-2.h5 converted (from 330Kb to 38Kb)\n",
            "TensorFlow prediction time: 0.7004296779632568s\n",
            "TensorFlowLite prediction time: 0.00027489662170410156s\n",
            "TensorFlow predictions\tTFLite predictions\tDistance\n",
            "-0.05996561795473099\t-0.09370165318250656\t0.033736035227775574\n",
            "-0.0331600159406662\t-0.08716335147619247\t0.054003335535526276\n",
            "-0.008841438218951225\t-0.09235500544309616\t0.08351356722414494\n",
            "-0.014330176636576653\t-0.08826060593128204\t0.07393042929470539\n",
            "-0.053852785378694534\t-0.08492231369018555\t0.031069528311491013\n",
            "-0.11776037514209747\t-0.09408234804868698\t0.023678027093410492\n",
            "-0.1684092879295349\t-0.08287162333726883\t0.08553766459226608\n",
            "-0.23674480617046356\t-0.05571825057268143\t0.18102655559778214\n",
            "-0.3546895384788513\t-0.09842107445001602\t0.2562684640288353\n",
            "-0.47840437293052673\t-0.09401378035545349\t0.38439059257507324\n",
            "Thu Dec  2 18:46:36 2021\n",
            "Architecture: LSTM_1L\n",
            "Channel: A-3\n",
            "Found untraced functions such as lstm_cell_4_layer_call_fn, lstm_cell_4_layer_call_and_return_conditional_losses, lstm_cell_4_layer_call_fn, lstm_cell_4_layer_call_and_return_conditional_losses, lstm_cell_4_layer_call_and_return_conditional_losses while saving (showing 5 of 5). These functions will not be directly callable after loading.\n",
            "Assets written to: /tmp/tmpzjzif8d1/assets\n",
            "Buffer deduplication procedure will be skipped when flatbuffer library is not properly loaded\n",
            "Model A-3.h5 converted (from 213Kb to 28Kb)\n",
            "TensorFlow prediction time: 0.6686904430389404s\n",
            "TensorFlowLite prediction time: 0.0003266334533691406s\n",
            "TensorFlow predictions\tTFLite predictions\tDistance\n",
            "0.38492485880851746\t0.07142104208469391\t0.31350381672382355\n",
            "0.4275176227092743\t0.0773390531539917\t0.3501785695552826\n",
            "0.44660279154777527\t0.06671091169118881\t0.37989187985658646\n",
            "0.4841723144054413\t0.0747588723897934\t0.4094134420156479\n",
            "0.5378620624542236\t0.0795966237783432\t0.45826543867588043\n",
            "0.5677666664123535\t0.07393834739923477\t0.49382831901311874\n",
            "0.6096826791763306\t0.07659672200679779\t0.5330859571695328\n",
            "0.6195336580276489\t0.08126199245452881\t0.5382716655731201\n",
            "0.6489190459251404\t0.076280876994133\t0.5726381689310074\n",
            "0.6596438884735107\t0.07287921011447906\t0.5867646783590317\n",
            "Thu Dec  2 18:46:49 2021\n",
            "Architecture: LSTM_1L\n",
            "Channel: A-4\n",
            "Found untraced functions such as lstm_cell_6_layer_call_fn, lstm_cell_6_layer_call_and_return_conditional_losses, lstm_cell_6_layer_call_fn, lstm_cell_6_layer_call_and_return_conditional_losses, lstm_cell_6_layer_call_and_return_conditional_losses while saving (showing 5 of 5). These functions will not be directly callable after loading.\n",
            "Assets written to: /tmp/tmpxgejdvim/assets\n",
            "Buffer deduplication procedure will be skipped when flatbuffer library is not properly loaded\n",
            "Model A-4.h5 converted (from 158Kb to 22Kb)\n",
            "TensorFlow prediction time: 0.668328046798706s\n",
            "TensorFlowLite prediction time: 0.0003819465637207031s\n",
            "TensorFlow predictions\tTFLite predictions\tDistance\n",
            "0.3608338534832001\t0.10096123814582825\t0.2598726153373718\n",
            "0.34321320056915283\t0.0876869484782219\t0.25552625209093094\n",
            "0.40265828371047974\t0.09294596314430237\t0.30971232056617737\n",
            "0.3686128258705139\t0.09830369055271149\t0.27030913531780243\n",
            "0.39648300409317017\t0.08646789938211441\t0.31001510471105576\n",
            "0.38665348291397095\t0.10547001659870148\t0.28118346631526947\n",
            "0.41428619623184204\t0.08234331756830215\t0.3319428786635399\n",
            "0.42054688930511475\t0.1031147688627243\t0.31743212044239044\n",
            "0.429181307554245\t0.09605967998504639\t0.3331216275691986\n",
            "0.4457187056541443\t0.13186600804328918\t0.3138526976108551\n",
            "Thu Dec  2 18:47:01 2021\n",
            "Architecture: LSTM_1L\n",
            "Channel: A-5\n",
            "Found untraced functions such as lstm_cell_8_layer_call_fn, lstm_cell_8_layer_call_and_return_conditional_losses, lstm_cell_8_layer_call_fn, lstm_cell_8_layer_call_and_return_conditional_losses, lstm_cell_8_layer_call_and_return_conditional_losses while saving (showing 5 of 5). These functions will not be directly callable after loading.\n",
            "Assets written to: /tmp/tmpergso0yy/assets\n",
            "Buffer deduplication procedure will be skipped when flatbuffer library is not properly loaded\n",
            "Model A-5.h5 converted (from 111Kb to 18Kb)\n",
            "5 out of the last 5 calls to <function Model.make_predict_function.<locals>.predict_function at 0x7fa14b7f7dd0> triggered tf.function retracing. Tracing is expensive and the excessive number of tracings could be due to (1) creating @tf.function repeatedly in a loop, (2) passing tensors with different shapes, (3) passing Python objects instead of tensors. For (1), please define your @tf.function outside of the loop. For (2), @tf.function has experimental_relax_shapes=True option that relaxes argument shapes that can avoid unnecessary retracing. For (3), please refer to https://www.tensorflow.org/guide/function#controlling_retracing and https://www.tensorflow.org/api_docs/python/tf/function for  more details.\n",
            "TensorFlow prediction time: 0.5748472213745117s\n",
            "TensorFlowLite prediction time: 0.00022363662719726562s\n",
            "TensorFlow predictions\tTFLite predictions\tDistance\n",
            "0.019455164670944214\t-0.5174718499183655\t0.5369270145893097\n",
            "0.07331889867782593\t-0.525891900062561\t0.599210798740387\n",
            "0.02098172903060913\t-0.5360103845596313\t0.5569921135902405\n",
            "0.0006007552146911621\t-0.5199539065361023\t0.5205546617507935\n",
            "-0.0033081471920013428\t-0.47872352600097656\t0.4754153788089752\n",
            "0.019000738859176636\t-0.525206446647644\t0.5442071855068207\n",
            "-0.04410852491855621\t-0.4784850478172302\t0.434376522898674\n",
            "0.010481834411621094\t-0.4266093373298645\t0.4370911717414856\n",
            "-0.032170236110687256\t-0.4759477376937866\t0.44377750158309937\n",
            "0.053331583738327026\t-0.5034780502319336\t0.5568096339702606\n",
            "Thu Dec  2 18:47:13 2021\n",
            "Architecture: LSTM_1L\n",
            "Channel: A-6\n",
            "Found untraced functions such as lstm_cell_10_layer_call_fn, lstm_cell_10_layer_call_and_return_conditional_losses, lstm_cell_10_layer_call_fn, lstm_cell_10_layer_call_and_return_conditional_losses, lstm_cell_10_layer_call_and_return_conditional_losses while saving (showing 5 of 5). These functions will not be directly callable after loading.\n",
            "Assets written to: /tmp/tmpyz7x25vm/assets\n",
            "Buffer deduplication procedure will be skipped when flatbuffer library is not properly loaded\n",
            "Model A-6.h5 converted (from 278Kb to 33Kb)\n",
            "6 out of the last 6 calls to <function Model.make_predict_function.<locals>.predict_function at 0x7fa14f89fd40> triggered tf.function retracing. Tracing is expensive and the excessive number of tracings could be due to (1) creating @tf.function repeatedly in a loop, (2) passing tensors with different shapes, (3) passing Python objects instead of tensors. For (1), please define your @tf.function outside of the loop. For (2), @tf.function has experimental_relax_shapes=True option that relaxes argument shapes that can avoid unnecessary retracing. For (3), please refer to https://www.tensorflow.org/guide/function#controlling_retracing and https://www.tensorflow.org/api_docs/python/tf/function for  more details.\n",
            "TensorFlow prediction time: 0.979177713394165s\n",
            "TensorFlowLite prediction time: 0.0002391338348388672s\n",
            "TensorFlow predictions\tTFLite predictions\tDistance\n",
            "-0.40963053703308105\t-0.27643752098083496\t0.1331930160522461\n",
            "-0.43311217427253723\t-0.28275778889656067\t0.15035438537597656\n",
            "-0.4361378848552704\t-0.2814522087574005\t0.15468567609786987\n",
            "-0.4198480248451233\t-0.26276710629463196\t0.15708091855049133\n",
            "-0.4288724362850189\t-0.2707672417163849\t0.15810519456863403\n",
            "-0.40292152762413025\t-0.2831434905529022\t0.11977803707122803\n",
            "-0.422124445438385\t-0.28283220529556274\t0.13929224014282227\n",
            "-0.40925949811935425\t-0.2741324305534363\t0.13512706756591797\n",
            "-0.3949471116065979\t-0.26431193947792053\t0.13063517212867737\n",
            "-0.356151282787323\t-0.22733308374881744\t0.12881819903850555\n",
            "Thu Dec  2 18:47:25 2021\n",
            "Architecture: LSTM_1L\n",
            "Channel: A-7\n",
            "Found untraced functions such as lstm_cell_12_layer_call_fn, lstm_cell_12_layer_call_and_return_conditional_losses, lstm_cell_12_layer_call_fn, lstm_cell_12_layer_call_and_return_conditional_losses, lstm_cell_12_layer_call_and_return_conditional_losses while saving (showing 5 of 5). These functions will not be directly callable after loading.\n",
            "Assets written to: /tmp/tmpquwwqsi0/assets\n",
            "Buffer deduplication procedure will be skipped when flatbuffer library is not properly loaded\n",
            "Model A-7.h5 converted (from 330Kb to 38Kb)\n",
            "TensorFlow prediction time: 0.720334529876709s\n",
            "TensorFlowLite prediction time: 0.0002818107604980469s\n",
            "TensorFlow predictions\tTFLite predictions\tDistance\n",
            "-0.47854939103126526\t0.0032243728637695312\t0.4817737638950348\n",
            "-0.3763674199581146\t-0.017889052629470825\t0.3584783673286438\n",
            "-0.31429770588874817\t-0.05828511714935303\t0.25601258873939514\n",
            "-0.27386680245399475\t-0.08983993530273438\t0.18402686715126038\n",
            "-0.24540996551513672\t-0.12115290760993958\t0.12425705790519714\n",
            "-0.25541195273399353\t-0.15532420575618744\t0.10008774697780609\n",
            "-0.29746562242507935\t-0.222344309091568\t0.07512131333351135\n",
            "-0.37298235297203064\t-0.2874676287174225\t0.08551472425460815\n",
            "-0.43622255325317383\t-0.32187342643737793\t0.1143491268157959\n",
            "-0.4923016428947449\t-0.34331968426704407\t0.1489819586277008\n",
            "Thu Dec  2 18:47:38 2021\n",
            "Architecture: LSTM_1L\n",
            "Channel: A-8\n",
            "Found untraced functions such as lstm_cell_14_layer_call_fn, lstm_cell_14_layer_call_and_return_conditional_losses, lstm_cell_14_layer_call_fn, lstm_cell_14_layer_call_and_return_conditional_losses, lstm_cell_14_layer_call_and_return_conditional_losses while saving (showing 5 of 5). These functions will not be directly callable after loading.\n",
            "Assets written to: /tmp/tmpme9wzdmv/assets\n",
            "Buffer deduplication procedure will be skipped when flatbuffer library is not properly loaded\n",
            "Model A-8.h5 converted (from 111Kb to 18Kb)\n",
            "TensorFlow prediction time: 0.6783931255340576s\n",
            "TensorFlowLite prediction time: 0.0002815723419189453s\n",
            "TensorFlow predictions\tTFLite predictions\tDistance\n",
            "-0.08168791234493256\t-0.11519446969032288\t0.03350655734539032\n",
            "-0.17065489292144775\t-0.14805789291858673\t0.022597000002861023\n",
            "-0.17696833610534668\t-0.12223750352859497\t0.05473083257675171\n",
            "-0.18677452206611633\t-0.13386377692222595\t0.05291074514389038\n",
            "-0.2194681614637375\t-0.1828254610300064\t0.03664270043373108\n",
            "-0.25161507725715637\t-0.18727147579193115\t0.06434360146522522\n",
            "-0.29854100942611694\t-0.19628876447677612\t0.10225224494934082\n",
            "-0.3187982738018036\t-0.2128511369228363\t0.10594713687896729\n",
            "-0.3823258876800537\t-0.24200649559497833\t0.14031939208507538\n",
            "-0.4008767306804657\t-0.2884671688079834\t0.1124095618724823\n",
            "Thu Dec  2 18:47:52 2021\n",
            "Architecture: LSTM_1L\n",
            "Channel: A-9\n",
            "Found untraced functions such as lstm_cell_16_layer_call_fn, lstm_cell_16_layer_call_and_return_conditional_losses, lstm_cell_16_layer_call_fn, lstm_cell_16_layer_call_and_return_conditional_losses, lstm_cell_16_layer_call_and_return_conditional_losses while saving (showing 5 of 5). These functions will not be directly callable after loading.\n",
            "Assets written to: /tmp/tmplsr78tqs/assets\n",
            "Buffer deduplication procedure will be skipped when flatbuffer library is not properly loaded\n",
            "Model A-9.h5 converted (from 278Kb to 33Kb)\n",
            "TensorFlow prediction time: 0.6926305294036865s\n",
            "TensorFlowLite prediction time: 0.0004050731658935547s\n",
            "TensorFlow predictions\tTFLite predictions\tDistance\n",
            "-0.08524537086486816\t0.17666509747505188\t0.26191046833992004\n",
            "-0.07124178856611252\t0.17116713523864746\t0.24240892380475998\n",
            "-0.013907011598348618\t0.1708625704050064\t0.18476958200335503\n",
            "-0.07045774161815643\t0.13110008835792542\t0.20155782997608185\n",
            "-0.049337148666381836\t0.17619308829307556\t0.2255302369594574\n",
            "-0.01586296036839485\t0.17062680423259735\t0.1864897646009922\n",
            "0.08650794625282288\t0.14267238974571228\t0.056164443492889404\n",
            "0.003458850085735321\t0.17428258061408997\t0.17082373052835464\n",
            "0.029361043125391006\t0.19555366039276123\t0.16619261726737022\n",
            "0.04767391085624695\t0.16913141310214996\t0.12145750224590302\n"
          ]
        }
      ]
    },
    {
      "cell_type": "code",
      "metadata": {
        "id": "i1mYVFxYSj7z"
      },
      "source": [
        "!rm ./drive/MyDrive/Colab*/anomaly_detection_data/res*"
      ],
      "execution_count": 2,
      "outputs": []
    },
    {
      "cell_type": "code",
      "metadata": {
        "id": "dRlm5Hkkf7QN"
      },
      "source": [
        "import os\n",
        "import tensorflow as tf\n",
        "import numpy as np\n",
        "from tensorflow import keras\n",
        "import time\n",
        "import logging\n",
        "import json\n",
        "\n",
        "cpu = os.popen('lscpu |grep \\'Model name\\'').read()\n",
        "ram_free = os.popen('free -h --si | awk  \\'/Mem:/{print $4}\\'').read()\n",
        "ram_total = os.popen('free -h --si | awk  \\'/Mem:/{print $2}\\'').read()\n",
        "\n",
        "logging.basicConfig(filename=\"./drive/MyDrive/Colab Notebooks/anomaly_detection_data/results.log\", level=logging.INFO, format='%(message)s')\n",
        "logging.info('CPU\\n\\t{}'.format(cpu))\n",
        "logging.info('RAM\\n\\t{} / {} free'.format(ram_free[:-1], ram_total[:-1]))\n",
        "\n",
        "results = {}"
      ],
      "execution_count": 1,
      "outputs": []
    },
    {
      "cell_type": "code",
      "metadata": {
        "id": "8rDy5qTF8aEU"
      },
      "source": [
        "PROJECT_NAME = 'anomaly_detection'\n",
        "PROJECT_PATH = './drive/MyDrive/Colab Notebooks/anomaly_detection_data/'\n",
        "DATASET_PATH = PROJECT_PATH+'Dataset/'\n",
        "ARCHITECTURE_TYPE = 'LSTM_1L/'\n",
        "TF_MODELS_PATH = PROJECT_PATH+'TF_Models/'+ARCHITECTURE_TYPE\n",
        "TFLite_MODELS_PATH = PROJECT_PATH+'TFLite_Models/'+ARCHITECTURE_TYPE\n",
        "CHANNEL_NAME = 'A-3'\n",
        "\n",
        "results[CHANNEL_NAME] = {}\n",
        "results[CHANNEL_NAME]['timestamp'] = time.ctime()\n",
        "results[CHANNEL_NAME]['architecture'] = ARCHITECTURE_TYPE[:-1]\n",
        "\n",
        "logging.info('---------------------------------')\n",
        "logging.info('{}\\nArchitecture: {}\\nChannel: {}'.format(time.ctime(), ARCHITECTURE_TYPE[:-1], CHANNEL_NAME))"
      ],
      "execution_count": 15,
      "outputs": []
    },
    {
      "cell_type": "markdown",
      "metadata": {
        "id": "Dt1rIwqnrcZ6"
      },
      "source": [
        "# Load Model and Dataset"
      ]
    },
    {
      "cell_type": "code",
      "metadata": {
        "id": "kt_EyQhLrcMr"
      },
      "source": [
        "def load_tf_model(channel_name):\n",
        "  if not channel_name.endswith('.h5'):\n",
        "    channel_name = channel_name+'.h5'\n",
        "  tf_model = keras.models.load_model(TF_MODELS_PATH+channel_name)\n",
        "  return tf_model\n",
        "\n",
        "\n",
        "def load_dataset(channel_name):\n",
        "  if not channel_name.endswith('.npy'):\n",
        "    channel_name = channel_name+'.npy'\n",
        "  x = np.array([np.load(DATASET_PATH+'test/'+channel_name)])\n",
        "  y = np.array([])\n",
        "  return x,y"
      ],
      "execution_count": 2,
      "outputs": []
    },
    {
      "cell_type": "markdown",
      "metadata": {
        "id": "oe36JAHxpa5E"
      },
      "source": [
        "# Prediction su TF Model"
      ]
    },
    {
      "cell_type": "code",
      "metadata": {
        "colab": {
          "base_uri": "https://localhost:8080/"
        },
        "id": "KBE3XAsUpZr5",
        "outputId": "5b283ba8-f617-4142-fae9-ad41780bf860"
      },
      "source": [
        "#load dataset\n",
        "tf_input_data, tf_output_data = load_dataset(CHANNEL_NAME)\n",
        "\n",
        "model = load_tf_model(CHANNEL_NAME)\n",
        "start_time = time.time()\n",
        "tf_output_data = model.predict(tf_input_data)\n",
        "delta_time = time.time()-start_time\n",
        "\n",
        "results[CHANNEL_NAME]['tf_prediction_time'] = delta_time\n",
        "results[CHANNEL_NAME]['tf_predictions'] = tf_output_data\n",
        "logging.info('TensorFlow prediction time: {}s'.format(delta_time))\n",
        "print('Library: {}\\nChannel: {}\\nPredictions: {}\\nTime elapsed: {}s'.format('TensorFlow', CHANNEL_NAME, tf_output_data, delta_time))"
      ],
      "execution_count": 18,
      "outputs": [
        {
          "output_type": "stream",
          "name": "stdout",
          "text": [
            "Library: TensorFlow\n",
            "Channel: A-3\n",
            "Predictions: [[0.38492486 0.42751762 0.4466028  0.4841723  0.53786206 0.56776667\n",
            "  0.6096827  0.61953366 0.64891905 0.6596439 ]]\n",
            "Time elapsed: 0.6823575496673584s\n"
          ]
        }
      ]
    },
    {
      "cell_type": "markdown",
      "metadata": {
        "id": "RpKpQ1nhioY6"
      },
      "source": [
        "# Conversione dei modelli da .h5 a .tflite"
      ]
    },
    {
      "cell_type": "code",
      "metadata": {
        "id": "QRfM_NG7imEd",
        "colab": {
          "base_uri": "https://localhost:8080/"
        },
        "outputId": "2f3ca477-e80d-4bd6-db0d-4f9faaa941a6"
      },
      "source": [
        "channels = [f for f in os.listdir(TF_MODELS_PATH)]\n",
        "\n",
        "for model_filename in channels:\n",
        "  if not model_filename.startswith(CHANNEL_NAME):\n",
        "    continue\n",
        "\n",
        "  #in Kb\n",
        "  tf_model_size = int(os.path.getsize(TF_MODELS_PATH+model_filename) / 1024)\n",
        "  results[CHANNEL_NAME]['tf_model_size'] = tf_model_size\n",
        "\n",
        "  tf_model = load_tf_model(model_filename)\n",
        "  converter = tf.lite.TFLiteConverter.from_keras_model(tf_model)\n",
        "  converter.target_spec.supported_ops = [\n",
        "  tf.lite.OpsSet.TFLITE_BUILTINS, # enable TensorFlow Lite ops.\n",
        "  tf.lite.OpsSet.SELECT_TF_OPS # enable TensorFlow ops.\n",
        "]\n",
        "  converter.optimizations = [tf.lite.Optimize.DEFAULT]\n",
        "  results[CHANNEL_NAME]['optimizations'] = 'DEFAULT'\n",
        "  #WARNING:absl:Found untraced functions such as lstm_cell -> e' un warning che dipende da come è stato salvato il modello, tuttavia non sembra esserci una precisa soluzione\n",
        "  tflite_model = converter.convert()\n",
        "\n",
        "  #generate TFLite model name\n",
        "  channel_name = model_filename[:-3]\n",
        "  tflite_model_filename = channel_name+'.tflite'\n",
        "  \n",
        "  TFLite_MODEL_FILE = TFLite_MODELS_PATH+tflite_model_filename\n",
        "  with open(TFLite_MODEL_FILE, 'wb') as f:\n",
        "    f.write(tflite_model)\n",
        "    print('Model for channel '+channel_name+' converted')\n",
        "    \n",
        "  #in Kb  \n",
        "  tflite_model_size = int(os.path.getsize(TFLite_MODEL_FILE) / 1024)\n",
        "  results[CHANNEL_NAME]['tflite_model_size'] = tflite_model_size\n",
        "  logging.info('Model '+model_filename+' converted (from '+str(tf_model_size)+'Kb to '+str(tflite_model_size)+'Kb)')"
      ],
      "execution_count": 17,
      "outputs": [
        {
          "output_type": "stream",
          "name": "stdout",
          "text": [
            "INFO:tensorflow:Assets written to: /tmp/tmpmzd8wxbg/assets\n",
            "Model for channel A-3 converted\n"
          ]
        }
      ]
    },
    {
      "cell_type": "markdown",
      "metadata": {
        "id": "tEmmBFX12ECT"
      },
      "source": [
        "# Prediction su TFLite"
      ]
    },
    {
      "cell_type": "code",
      "metadata": {
        "id": "vNp9oM_B2G1z",
        "colab": {
          "base_uri": "https://localhost:8080/"
        },
        "outputId": "f4741359-b9a7-4213-d6a5-ebad6a6f4ec1"
      },
      "source": [
        "#load dataset\n",
        "x_data, tflite_output_data = load_dataset(CHANNEL_NAME)\n",
        "\n",
        "interpreter = tf.lite.Interpreter(model_path=TFLite_MODELS_PATH+CHANNEL_NAME+'.tflite')\n",
        "interpreter.allocate_tensors()\n",
        "\n",
        "input_details = interpreter.get_input_details()\n",
        "output_details = interpreter.get_output_details()\n",
        "\n",
        "#preprocessing input data\n",
        "input_shape = input_details[0]['shape']\n",
        "\n",
        "start_time = time.time()\n",
        "#per ogni riga del dataset, creo un tensore e invoco il modello\n",
        "for data in x_data[0]:\n",
        "  input_data = np.array([[data]], dtype=np.float32)\n",
        "  interpreter.set_tensor(input_details[0]['index'], input_data)\n",
        "    \n",
        "  #run inference\n",
        "  start_time = time.time()\n",
        "  interpreter.invoke()\n",
        "  stop_time = time.time()\n",
        "  \n",
        "  #recupero l'output prodotto dal modello\n",
        "  output_data = interpreter.get_tensor(output_details[0]['index'])\n",
        "  tflite_output_data = np.append(tflite_output_data, output_data)\n",
        "\n",
        "delta_time = time.time() - start_time\n",
        "results[CHANNEL_NAME]['tflite_prediction_time'] = delta_time\n",
        "results[CHANNEL_NAME]['tflite_predictions'] = tflite_output_data\n",
        "logging.info('TensorFlowLite prediction time: {}s'.format(delta_time))\n",
        "print('Library: {}\\nChannel: {}\\nPredictions: {}\\nTime elapsed: {}s'.format('TensorFlow Lite', CHANNEL_NAME, tflite_output_data, delta_time))"
      ],
      "execution_count": 19,
      "outputs": [
        {
          "output_type": "stream",
          "name": "stdout",
          "text": [
            "Library: TensorFlow Lite\n",
            "Channel: A-3\n",
            "Predictions: [0.07142104 0.07733905 0.06671091 ... 0.12977967 0.1367701  0.13243306]\n",
            "Time elapsed: 0.0004017353057861328s\n"
          ]
        }
      ]
    },
    {
      "cell_type": "code",
      "metadata": {
        "colab": {
          "base_uri": "https://localhost:8080/"
        },
        "id": "o7HpvBocwlMl",
        "outputId": "194772f1-b463-42a8-e368-7fdb813606fe"
      },
      "source": [
        "#confronto tra i risultati prodotti dal modello TF (sinistra) rispetto al modello TFLite (destra)\n",
        "logging.info('TensorFlow predictions\\tTFLite predictions\\tDistance')\n",
        "results[CHANNEL_NAME]['distance'] = []\n",
        "for y_tf, y_tflite in zip(tf_output_data[0], tflite_output_data):\n",
        "  logging.info('{}\\t{}\\t{}'.format(y_tf, y_tflite, abs(y_tf-y_tflite)))\n",
        "  print('{} {} {}'.format(y_tf, y_tflite, abs(y_tf-y_tflite)))\n",
        "  results[CHANNEL_NAME]['distance'].append(abs(y_tf-y_tflite))\n",
        "\n",
        "logging.info('-----------------------------------------')"
      ],
      "execution_count": 20,
      "outputs": [
        {
          "output_type": "stream",
          "name": "stdout",
          "text": [
            "0.38492485880851746 0.07142104208469391 0.31350381672382355\n",
            "0.4275176227092743 0.0773390531539917 0.3501785695552826\n",
            "0.44660279154777527 0.06671091169118881 0.37989187985658646\n",
            "0.4841723144054413 0.0747588723897934 0.4094134420156479\n",
            "0.5378620624542236 0.0795966237783432 0.45826543867588043\n",
            "0.5677666664123535 0.07393834739923477 0.49382831901311874\n",
            "0.6096826791763306 0.07659672200679779 0.5330859571695328\n",
            "0.6195336580276489 0.08126199245452881 0.5382716655731201\n",
            "0.6489190459251404 0.076280876994133 0.5726381689310074\n",
            "0.6596438884735107 0.07287921011447906 0.5867646783590317\n"
          ]
        }
      ]
    }
  ]
}