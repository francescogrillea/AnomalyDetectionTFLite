{
  "nbformat": 4,
  "nbformat_minor": 0,
  "metadata": {
    "colab": {
      "name": "AnomalyDetection.ipynb",
      "provenance": [],
      "collapsed_sections": [
        "RpKpQ1nhioY6"
      ],
      "mount_file_id": "1WkX3st5hXZbhA2FMrflI8p-dRwdEi3_e",
      "authorship_tag": "ABX9TyOWBqM66BQvHuBvY0RBXZEj",
      "include_colab_link": true
    },
    "kernelspec": {
      "name": "python3",
      "display_name": "Python 3"
    },
    "language_info": {
      "name": "python"
    }
  },
  "cells": [
    {
      "cell_type": "markdown",
      "metadata": {
        "id": "view-in-github",
        "colab_type": "text"
      },
      "source": [
        "<a href=\"https://colab.research.google.com/github/francescogrillea/AnomalyDetectionTFLite/blob/main/AnomalyDetection.ipynb\" target=\"_parent\"><img src=\"https://colab.research.google.com/assets/colab-badge.svg\" alt=\"Open In Colab\"/></a>"
      ]
    },
    {
      "cell_type": "markdown",
      "metadata": {
        "id": "vtqGVY5Gg_Xo"
      },
      "source": [
        "# Import e Costanti"
      ]
    },
    {
      "cell_type": "code",
      "metadata": {
        "id": "6_jPsPao2miK"
      },
      "source": [
        "!rm ./drive/MyDrive/Colab*/anomaly_detection_data/TFLite_Models/LSTM_1L/*"
      ],
      "execution_count": null,
      "outputs": []
    },
    {
      "cell_type": "code",
      "metadata": {
        "id": "dRlm5Hkkf7QN"
      },
      "source": [
        "import os\n",
        "import tensorflow as tf\n",
        "import numpy as np\n",
        "from tensorflow import keras\n",
        "import time\n",
        "\n",
        "PROJECT_NAME = 'anomaly_detection'\n",
        "PROJECT_PATH = './drive/MyDrive/Colab Notebooks/anomaly_detection_data/'\n",
        "DATASET_PATH = PROJECT_PATH+'Dataset/'\n",
        "MODEL_TYPE = 'LSTM_1L/'\n",
        "TF_MODELS_PATH = PROJECT_PATH+'TF_Models/'+MODEL_TYPE\n",
        "TFLite_MODELS_PATH = PROJECT_PATH+'TFLite_Models/'+MODEL_TYPE\n",
        "CHANNEL_NAME = 'A-1'"
      ],
      "execution_count": null,
      "outputs": []
    },
    {
      "cell_type": "markdown",
      "metadata": {
        "id": "Dt1rIwqnrcZ6"
      },
      "source": [
        "# Load Model and Dataset"
      ]
    },
    {
      "cell_type": "code",
      "metadata": {
        "id": "kt_EyQhLrcMr"
      },
      "source": [
        "def load_tf_model(channel_name):\n",
        "  if not channel_name.endswith('.h5'):\n",
        "    channel_name = channel_name+'.h5'\n",
        "  tf_model = keras.models.load_model(TF_MODELS_PATH+channel_name)\n",
        "  return tf_model\n",
        "\n",
        "\n",
        "def load_dataset(channel_name):\n",
        "  if not channel_name.endswith('.npy'):\n",
        "    channel_name = channel_name+'.npy'\n",
        "  x = np.array([np.load(DATASET_PATH+'test/'+channel_name)])\n",
        "  y = np.array([])\n",
        "  return x,y"
      ],
      "execution_count": null,
      "outputs": []
    },
    {
      "cell_type": "markdown",
      "metadata": {
        "id": "oe36JAHxpa5E"
      },
      "source": [
        "# Prediction su TF Model"
      ]
    },
    {
      "cell_type": "code",
      "metadata": {
        "colab": {
          "base_uri": "https://localhost:8080/"
        },
        "id": "KBE3XAsUpZr5",
        "outputId": "e98f9ab1-1c4f-4927-cfa5-5f2734582cbb"
      },
      "source": [
        "#load dataset\n",
        "x_tf, tf_output_data = load_dataset(CHANNEL_NAME)\n",
        "\n",
        "model = load_tf_model(CHANNEL_NAME)\n",
        "tf_output_data = model.predict(x_tf)\n",
        "print(tf_output_data)"
      ],
      "execution_count": null,
      "outputs": [
        {
          "output_type": "stream",
          "name": "stdout",
          "text": [
            "[[0.9981911  0.9989598  0.99894804 0.99897206 0.9992333  0.99905074\n",
            "  0.9991313  0.99830365 0.9991017  0.99896634]]\n"
          ]
        }
      ]
    },
    {
      "cell_type": "markdown",
      "metadata": {
        "id": "RpKpQ1nhioY6"
      },
      "source": [
        "# Conversione dei modelli da .h5 a .tflite"
      ]
    },
    {
      "cell_type": "code",
      "metadata": {
        "id": "QRfM_NG7imEd",
        "colab": {
          "base_uri": "https://localhost:8080/"
        },
        "outputId": "cee18995-8d93-4f3a-81c6-08fb85f5ea20"
      },
      "source": [
        "channels = [f for f in os.listdir(TF_MODELS_PATH)]\n",
        "\n",
        "for model_filename in channels:\n",
        "  if not model_filename.startswith(CHANNEL_NAME):\n",
        "    continue\n",
        "\n",
        "  tf_model = load_tf_model(model_filename)\n",
        "  converter = tf.lite.TFLiteConverter.from_keras_model(tf_model)\n",
        "  converter.target_spec.supported_ops = [\n",
        "  tf.lite.OpsSet.TFLITE_BUILTINS, # enable TensorFlow Lite ops.\n",
        "  tf.lite.OpsSet.SELECT_TF_OPS # enable TensorFlow ops.\n",
        "]\n",
        "  #optimizations = [tf.lite.Optimize.DEFAULT]\n",
        "  tflite_model = converter.convert()\n",
        "\n",
        "  #generate TFLite model name\n",
        "  channel_name = model_filename[:-3]\n",
        "  tflite_model_filename = channel_name+'.tflite'\n",
        "  \n",
        "  TFLite_MODEL_FILE = TFLite_MODELS_PATH+tflite_model_filename\n",
        "  with open(TFLite_MODEL_FILE, 'wb') as f:\n",
        "    f.write(tflite_model)\n",
        "    print('Model for channel '+channel_name+' converted')\n",
        "    #break"
      ],
      "execution_count": null,
      "outputs": [
        {
          "output_type": "stream",
          "name": "stderr",
          "text": [
            "WARNING:absl:Found untraced functions such as lstm_cell_32_layer_call_fn, lstm_cell_32_layer_call_and_return_conditional_losses, lstm_cell_32_layer_call_fn, lstm_cell_32_layer_call_and_return_conditional_losses, lstm_cell_32_layer_call_and_return_conditional_losses while saving (showing 5 of 5). These functions will not be directly callable after loading.\n"
          ]
        },
        {
          "output_type": "stream",
          "name": "stdout",
          "text": [
            "INFO:tensorflow:Assets written to: /tmp/tmph5005zwy/assets\n"
          ]
        },
        {
          "output_type": "stream",
          "name": "stderr",
          "text": [
            "INFO:tensorflow:Assets written to: /tmp/tmph5005zwy/assets\n",
            "WARNING:absl:Buffer deduplication procedure will be skipped when flatbuffer library is not properly loaded\n"
          ]
        },
        {
          "output_type": "stream",
          "name": "stdout",
          "text": [
            "Model for channel A-1 converted\n"
          ]
        }
      ]
    },
    {
      "cell_type": "markdown",
      "metadata": {
        "id": "tEmmBFX12ECT"
      },
      "source": [
        "# Inferenza su TFLite"
      ]
    },
    {
      "cell_type": "code",
      "metadata": {
        "id": "vNp9oM_B2G1z",
        "colab": {
          "base_uri": "https://localhost:8080/"
        },
        "outputId": "5952be5f-f076-4fbd-d0f8-e24aa41a21ed"
      },
      "source": [
        "#load dataset\n",
        "x_data, tflite_output_data = load_dataset(CHANNEL_NAME)\n",
        "\n",
        "interpreter = tf.lite.Interpreter(model_path=TFLite_MODELS_PATH+CHANNEL_NAME+'.tflite')\n",
        "interpreter.allocate_tensors()\n",
        "\n",
        "input_details = interpreter.get_input_details()\n",
        "output_details = interpreter.get_output_details()\n",
        "\n",
        "#preprocessing input data\n",
        "input_shape = input_details[0]['shape']\n",
        "\n",
        "#per ogni riga del dataset, creo un tensore e invoco il modello\n",
        "for data in x_data[0]:\n",
        "  input_data = np.array([[data]], dtype=np.float32)\n",
        "  interpreter.set_tensor(input_details[0]['index'], input_data)\n",
        "    \n",
        "  #run inference\n",
        "  start_time = time.time()\n",
        "  interpreter.invoke()\n",
        "  stop_time = time.time()\n",
        "  \n",
        "  #recupero l'output prodotto dal modello\n",
        "  output_data = interpreter.get_tensor(output_details[0]['index'])\n",
        "  tflite_output_data = np.append(tflite_output_data, output_data)\n",
        "\n",
        "print(tflite_output_data)"
      ],
      "execution_count": null,
      "outputs": [
        {
          "output_type": "stream",
          "name": "stdout",
          "text": [
            "[0.99269593 0.99599427 0.99681348 ... 0.99395204 0.99885583 0.99699628]\n"
          ]
        }
      ]
    },
    {
      "cell_type": "code",
      "metadata": {
        "colab": {
          "base_uri": "https://localhost:8080/"
        },
        "id": "o7HpvBocwlMl",
        "outputId": "176b6131-2f9f-4fbe-8508-6e460c9fa27d"
      },
      "source": [
        "#confronto tra i risultati prodotti dal modello TF (sinistra) rispetto al modello TFLite (destra)\n",
        "for y_tf, y_tflite in zip(tf_output_data[0], tflite_output_data):\n",
        "  print('{} -- {}: error {}'.format(y_tf, y_tflite, y_tf-y_tflite))"
      ],
      "execution_count": null,
      "outputs": [
        {
          "output_type": "stream",
          "name": "stdout",
          "text": [
            "0.9981911182403564 -- 0.9926959276199341: error 0.005495190620422363\n",
            "0.9989597797393799 -- 0.9959942698478699: error 0.0029655098915100098\n",
            "0.9989480376243591 -- 0.9968134760856628: error 0.002134561538696289\n",
            "0.9989720582962036 -- 0.9970735907554626: error 0.0018984675407409668\n",
            "0.9992333054542542 -- 0.9978994131088257: error 0.0013338923454284668\n",
            "0.9990507364273071 -- 0.9971656203269958: error 0.0018851161003112793\n",
            "0.9991313219070435 -- 0.9977410435676575: error 0.0013902783393859863\n",
            "0.9983036518096924 -- 0.9939520359039307: error 0.004351615905761719\n",
            "0.9991016983985901 -- 0.9988558292388916: error 0.00024586915969848633\n",
            "0.9989663362503052 -- 0.996996283531189: error 0.001970052719116211\n"
          ]
        }
      ]
    }
  ]
}